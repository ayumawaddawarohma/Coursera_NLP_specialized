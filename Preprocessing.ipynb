{
  "nbformat": 4,
  "nbformat_minor": 0,
  "metadata": {
    "colab": {
      "provenance": [],
      "authorship_tag": "ABX9TyMJWBOt8xC0wdqJD5TJD07i",
      "include_colab_link": true
    },
    "kernelspec": {
      "name": "python3",
      "display_name": "Python 3"
    },
    "language_info": {
      "name": "python"
    }
  },
  "cells": [
    {
      "cell_type": "markdown",
      "metadata": {
        "id": "view-in-github",
        "colab_type": "text"
      },
      "source": [
        "<a href=\"https://colab.research.google.com/github/ayumawaddawarohma/Coursera_NLP_specialized/blob/main/Preprocessing.ipynb\" target=\"_parent\"><img src=\"https://colab.research.google.com/assets/colab-badge.svg\" alt=\"Open In Colab\"/></a>"
      ]
    },
    {
      "cell_type": "markdown",
      "source": [
        "# Setup\n",
        "You will be doing sentiment analysis on tweets in the first two weeks of this course. To help with that, we will be using the Natural Language Toolkit (NLTK) package, an open-source Python library for natural language processing. It has modules for collecting, handling, and processing Twitter data, and you will be acquainted with them as we move along the course."
      ],
      "metadata": {
        "id": "HYbJ5aY9M2_Q"
      }
    },
    {
      "cell_type": "code",
      "execution_count": 2,
      "metadata": {
        "id": "57C4vAMEMFFJ"
      },
      "outputs": [],
      "source": [
        "# import library NLTK\n",
        "\n",
        "import nltk\n",
        "from nltk.corpus import twitter_samples # samples twitter dataset fromNLTK\n",
        "import matplotlib.pyplot as plt \n",
        "import random # pseudo random number generator"
      ]
    },
    {
      "cell_type": "markdown",
      "source": [
        "# Load dataset and dataset distribution\n",
        "\n",
        "twitter dataset from NLTK is seperated into positive and negativ tweets. It contains 5000 postives and negative tweets,this dataset have exact match between classes to avoid imbalanced dataset."
      ],
      "metadata": {
        "id": "3eRzW47NN-BX"
      }
    },
    {
      "cell_type": "code",
      "source": [
        "# code for download dataset in local computer\n",
        "# downloads sample twitter dataset.\n",
        "nltk.download('twitter_samples')"
      ],
      "metadata": {
        "colab": {
          "base_uri": "https://localhost:8080/"
        },
        "id": "wpqeTH7PN9ML",
        "outputId": "8fcc5263-53f2-4a3e-f53b-13e370e3cea7"
      },
      "execution_count": 3,
      "outputs": [
        {
          "output_type": "stream",
          "name": "stderr",
          "text": [
            "[nltk_data] Downloading package twitter_samples to /root/nltk_data...\n",
            "[nltk_data]   Unzipping corpora/twitter_samples.zip.\n"
          ]
        },
        {
          "output_type": "execute_result",
          "data": {
            "text/plain": [
              "True"
            ]
          },
          "metadata": {},
          "execution_count": 3
        }
      ]
    },
    {
      "cell_type": "code",
      "source": [
        "# select the set of positive and negative tweets\n",
        "all_PositiveTweets= twitter_samples.strings('positive_tweets.json')\n",
        "all_NegativeTweets = twitter_samples.strings('negative_tweets.json')"
      ],
      "metadata": {
        "id": "1L-ENtk8O1H5"
      },
      "execution_count": 4,
      "outputs": []
    },
    {
      "cell_type": "code",
      "source": [
        "# print stucture dataset \n",
        "\n",
        "print('Number of postive tweets : ', len(all_PositiveTweets))\n",
        "print('Number of negative tweets : ', len(all_NegativeTweets))\n",
        "\n",
        "print('\\nType of postive_tweets : ', type(all_PositiveTweets))\n",
        "print('type of negative_tweets : ', type(all_NegativeTweets))\n",
        "\n",
        "print('\\ntype of a tweets entry is :', type(all_NegativeTweets[0]))"
      ],
      "metadata": {
        "colab": {
          "base_uri": "https://localhost:8080/"
        },
        "id": "Q82cOW-YPbog",
        "outputId": "23d72830-ab21-460f-f69a-6ee5522a480d"
      },
      "execution_count": 9,
      "outputs": [
        {
          "output_type": "stream",
          "name": "stdout",
          "text": [
            "Number of postive tweets :  5000\n",
            "Number of negative tweets :  5000\n",
            "\n",
            "Type of postive_tweets :  <class 'list'>\n",
            "type of negative_tweets :  <class 'list'>\n",
            "\n",
            "type of a tweets entry is : <class 'str'>\n"
          ]
        }
      ]
    },
    {
      "cell_type": "code",
      "source": [
        "# make visualizations dataset using matplotlib library - pie chart\n",
        "\n",
        "# declare figure with a custom size\n",
        "fig = plt.figure(figsize=(5,5))\n",
        "\n",
        "# create labels for data\n",
        "labels = 'Positive_tweets', 'Negative_tweets'\n",
        "\n",
        "# size for each slide \n",
        "sizes = [len(all_PositiveTweets),len(all_NegativeTweets)]\n",
        "\n",
        "# create pie chart \n",
        "plt.pie(sizes, labels=labels,autopct='%1.1f%%',shadow=True, startangle=90)\n",
        "\n",
        "#equal aspect ration \n",
        "plt.axis('equal')\n",
        "\n",
        "# display the chart \n",
        "plt.show()"
      ],
      "metadata": {
        "colab": {
          "base_uri": "https://localhost:8080/",
          "height": 303
        },
        "id": "yFGk-QyOP-0c",
        "outputId": "6ee375a6-3f66-424c-bb31-40252364af71"
      },
      "execution_count": 10,
      "outputs": [
        {
          "output_type": "display_data",
          "data": {
            "text/plain": [
              "<Figure size 360x360 with 1 Axes>"
            ],
            "image/png": "[encoded data removed]"
          },
          "metadata": {}
        }
      ]
    },
    {
      "cell_type": "code",
      "source": [
        "# looking at raw texts to understanding the data\n",
        "#referece for coloring text :https://www.studytonight.com/python-howtos/how-to-print-colored-text-in-python\n",
        "\n",
        "# print postive in green \n",
        "print('\\033[92m' + all_PositiveTweets[random.randint(0,5000)])\n",
        "\n",
        "# print negative in red \n",
        "# print negative in red\n",
        "print('\\033[91m' + all_NegativeTweets[random.randint(0,5000)])"
      ],
      "metadata": {
        "colab": {
          "base_uri": "https://localhost:8080/"
        },
        "id": "myBynYx7Si1n",
        "outputId": "06efb8b0-cde6-4b13-a76e-a97334c939c6"
      },
      "execution_count": 12,
      "outputs": [
        {
          "output_type": "stream",
          "name": "stdout",
          "text": [
            "\u001b[92m@occeaneweb thanks for following :)\n",
            "\u001b[91m@zoellaftmendes but why? :(\n"
          ]
        }
      ]
    },
    {
      "cell_type": "markdown",
      "source": [
        "# Pre-Processing\n",
        "\n",
        "Data preprocessing is one of the critical steps in any machine learning project. It includes cleaning and formatting the data before feeding into a machine learning algorithm. For NLP, the preprocessing steps are comprised of the following tasks:\n",
        "\n",
        "1. Tokenizing the string\n",
        "2. Lowercasing\n",
        "3. Removing stop words and punctuation\n",
        "4. Stemming\n"
      ],
      "metadata": {
        "id": "zp1opWjBSHBr"
      }
    },
    {
      "cell_type": "code",
      "source": [
        "# selected sample of tweets from dataset \n",
        "tweet = all_PositiveTweets[2277]\n",
        "print(tweet)"
      ],
      "metadata": {
        "colab": {
          "base_uri": "https://localhost:8080/"
        },
        "id": "kQEJwK8ZUKRz",
        "outputId": "b8c7bdf4-d2a2-45a0-f405-99bb51081ccf"
      },
      "execution_count": 13,
      "outputs": [
        {
          "output_type": "stream",
          "name": "stdout",
          "text": [
            "My beautiful sunflowers on a sunny Friday morning off :) #sunflowers #favourites #happy #Friday off… https://t.co/3tfYom0N1i\n"
          ]
        }
      ]
    },
    {
      "cell_type": "code",
      "source": [
        "# download the stopwords from NLTK \n",
        "nltk.download('stopwords')"
      ],
      "metadata": {
        "colab": {
          "base_uri": "https://localhost:8080/"
        },
        "id": "WSk0zF2qUY5F",
        "outputId": "ec6203a0-8a4d-4bfc-ab59-256717390b0c"
      },
      "execution_count": 14,
      "outputs": [
        {
          "output_type": "stream",
          "name": "stderr",
          "text": [
            "[nltk_data] Downloading package stopwords to /root/nltk_data...\n",
            "[nltk_data]   Unzipping corpora/stopwords.zip.\n"
          ]
        },
        {
          "output_type": "execute_result",
          "data": {
            "text/plain": [
              "True"
            ]
          },
          "metadata": {},
          "execution_count": 14
        }
      ]
    },
    {
      "cell_type": "code",
      "source": [
        "import re #library for regex  \n",
        "import string # for string operations\n",
        "\n",
        "from nltk.corpus import stopwords \n",
        "from nltk.stem import PorterStemmer \n",
        "from nltk.tokenize import TweetTokenizer "
      ],
      "metadata": {
        "id": "Q7wbbRrtUhm9"
      },
      "execution_count": 15,
      "outputs": []
    },
    {
      "cell_type": "code",
      "source": [
        "# Remove hyperlinks, Twitter marks and styles\n",
        "\n",
        "print('\\033[92m'+ tweet)\n",
        "print('\\033[94m')\n",
        "\n",
        "# remove style retweet \n",
        "tweet2 = re.sub(r'^RT[\\s]+', '', tweet)\n",
        "\n",
        "# remove hyperlinks\n",
        "tweet2= re.sub(r'https?://[^\\s\\n\\r]+', '',tweet2)\n",
        "\n",
        "#remove hastag\n",
        "tweet2 = re.sub(r'#', '',tweet2)\n",
        "\n",
        "print(tweet2)\n"
      ],
      "metadata": {
        "colab": {
          "base_uri": "https://localhost:8080/"
        },
        "id": "NYflkMXxVnZc",
        "outputId": "8365dade-5eee-4b44-f39b-37c00ff4f019"
      },
      "execution_count": 19,
      "outputs": [
        {
          "output_type": "stream",
          "name": "stdout",
          "text": [
            "\u001b[92mMy beautiful sunflowers on a sunny Friday morning off :) #sunflowers #favourites #happy #Friday off… https://t.co/3tfYom0N1i\n",
            "\u001b[94m\n",
            "My beautiful sunflowers on a sunny Friday morning off :) sunflowers favourites happy Friday off… \n"
          ]
        }
      ]
    },
    {
      "cell_type": "markdown",
      "source": [
        "## Tokenize the string  \n",
        "To tokenize means to split the strings into individual words without blanks or tabs\n"
      ],
      "metadata": {
        "id": "oXrhAsTae8rb"
      }
    },
    {
      "cell_type": "code",
      "source": [
        "\n",
        "print('\\033[92m'+ tweet2)\n",
        "print('\\033[94m')\n",
        "\n",
        "# instantiate tokenizer class\n",
        "tokinizer = TweetTokenizer(preserve_case=False, strip_handles=True, reduce_len=True)\n",
        "\n",
        "# tokenize tweets\n",
        "tweet_tokens = tokinizer.tokenize(tweet2)\n",
        "\n",
        "print()\n",
        "print('Tokenized string:')\n",
        "print(tweet_tokens)"
      ],
      "metadata": {
        "colab": {
          "base_uri": "https://localhost:8080/"
        },
        "id": "jK6u1c7mXjYJ",
        "outputId": "67a4cc07-48bb-4922-f499-bad7f91bc7d2"
      },
      "execution_count": 23,
      "outputs": [
        {
          "output_type": "stream",
          "name": "stdout",
          "text": [
            "\u001b[92mMy beautiful sunflowers on a sunny Friday morning off :) sunflowers favourites happy Friday off… \n",
            "\u001b[94m\n",
            "\n",
            "Tokenized string:\n",
            "['my', 'beautiful', 'sunflowers', 'on', 'a', 'sunny', 'friday', 'morning', 'off', ':)', 'sunflowers', 'favourites', 'happy', 'friday', 'off', '…']\n"
          ]
        }
      ]
    },
    {
      "cell_type": "markdown",
      "source": [
        "## Remove stop words and punctuations"
      ],
      "metadata": {
        "id": "PTkuSVK_fCC1"
      }
    },
    {
      "cell_type": "code",
      "source": [
        "stopwords_english = stopwords.words('english')\n",
        "\n",
        "print('Stopwords\\n')\n",
        "print(stopwords_english)\n",
        "\n",
        "print('\\nPunctuation\\n')\n",
        "print(string.punctuation)"
      ],
      "metadata": {
        "colab": {
          "base_uri": "https://localhost:8080/"
        },
        "id": "0KlHU2AAfBjs",
        "outputId": "a9e40418-1ec8-42f3-9063-096c08966712"
      },
      "execution_count": 25,
      "outputs": [
        {
          "output_type": "stream",
          "name": "stdout",
          "text": [
            "Stopwords\n",
            "\n",
            "['i', 'me', 'my', 'myself', 'we', 'our', 'ours', 'ourselves', 'you', \"you're\", \"you've\", \"you'll\", \"you'd\", 'your', 'yours', 'yourself', 'yourselves', 'he', 'him', 'his', 'himself', 'she', \"she's\", 'her', 'hers', 'herself', 'it', \"it's\", 'its', 'itself', 'they', 'them', 'their', 'theirs', 'themselves', 'what', 'which', 'who', 'whom', 'this', 'that', \"that'll\", 'these', 'those', 'am', 'is', 'are', 'was', 'were', 'be', 'been', 'being', 'have', 'has', 'had', 'having', 'do', 'does', 'did', 'doing', 'a', 'an', 'the', 'and', 'but', 'if', 'or', 'because', 'as', 'until', 'while', 'of', 'at', 'by', 'for', 'with', 'about', 'against', 'between', 'into', 'through', 'during', 'before', 'after', 'above', 'below', 'to', 'from', 'up', 'down', 'in', 'out', 'on', 'off', 'over', 'under', 'again', 'further', 'then', 'once', 'here', 'there', 'when', 'where', 'why', 'how', 'all', 'any', 'both', 'each', 'few', 'more', 'most', 'other', 'some', 'such', 'no', 'nor', 'not', 'only', 'own', 'same', 'so', 'than', 'too', 'very', 's', 't', 'can', 'will', 'just', 'don', \"don't\", 'should', \"should've\", 'now', 'd', 'll', 'm', 'o', 're', 've', 'y', 'ain', 'aren', \"aren't\", 'couldn', \"couldn't\", 'didn', \"didn't\", 'doesn', \"doesn't\", 'hadn', \"hadn't\", 'hasn', \"hasn't\", 'haven', \"haven't\", 'isn', \"isn't\", 'ma', 'mightn', \"mightn't\", 'mustn', \"mustn't\", 'needn', \"needn't\", 'shan', \"shan't\", 'shouldn', \"shouldn't\", 'wasn', \"wasn't\", 'weren', \"weren't\", 'won', \"won't\", 'wouldn', \"wouldn't\"]\n",
            "\n",
            "Punctuation\n",
            "\n",
            "!\"#$%&'()*+,-./:;<=>?@[\\]^_`{|}~\n"
          ]
        }
      ]
    },
    {
      "cell_type": "code",
      "source": [
        "#  clean up our tokenized tweet\n",
        "\n",
        "print()\n",
        "print('\\033[92m')\n",
        "print(tweet_tokens)\n",
        "print('\\033[94m')\n",
        "\n",
        "tweets_clean = []\n",
        "\n",
        "for word in tweet_tokens :\n",
        "  if (word not in stopwords_english and word not in string.punctuation):\n",
        "    tweets_clean.append(word)\n",
        "\n",
        "print('remove stop words and puctuation : ')\n",
        "print(tweets_clean)\n",
        "\n"
      ],
      "metadata": {
        "colab": {
          "base_uri": "https://localhost:8080/"
        },
        "id": "-I0dzEwsgE58",
        "outputId": "2901f164-94e0-4096-f318-a487bbb6cbdc"
      },
      "execution_count": 26,
      "outputs": [
        {
          "output_type": "stream",
          "name": "stdout",
          "text": [
            "\n",
            "\u001b[92m\n",
            "['my', 'beautiful', 'sunflowers', 'on', 'a', 'sunny', 'friday', 'morning', 'off', ':)', 'sunflowers', 'favourites', 'happy', 'friday', 'off', '…']\n",
            "\u001b[94m\n",
            "remove stop words and puctuation : \n",
            "['beautiful', 'sunflowers', 'sunny', 'friday', 'morning', ':)', 'sunflowers', 'favourites', 'happy', 'friday', '…']\n"
          ]
        }
      ]
    },
    {
      "cell_type": "markdown",
      "source": [
        "## Stemming \n",
        "Stemming is the process of converting a word to its most general form, or stem. This helps in reducing the size of our vocabulary"
      ],
      "metadata": {
        "id": "VG8724-Gg7DC"
      }
    },
    {
      "cell_type": "code",
      "source": [
        "print()\n",
        "print('\\033[92m')\n",
        "print(tweets_clean)\n",
        "print('\\033[94m')\n",
        "\n",
        "# instantiate stemming class\n",
        "stemmer =PorterStemmer()\n",
        "\n",
        "# create an empty list to store the stems\n",
        "tweets_stem = []\n",
        "\n",
        "for word in tweets_clean :\n",
        "  steem_word = stemmer.stem(word)\n",
        "  tweets_stem.append(steem_word)\n",
        "\n",
        "print('stemmed words:')\n",
        "print(tweets_stem)  "
      ],
      "metadata": {
        "colab": {
          "base_uri": "https://localhost:8080/"
        },
        "id": "ZyyQpSnlgtMi",
        "outputId": "8e93258b-d7be-4a06-d9d7-df87f4a7dfce"
      },
      "execution_count": 27,
      "outputs": [
        {
          "output_type": "stream",
          "name": "stdout",
          "text": [
            "\n",
            "\u001b[92m\n",
            "['beautiful', 'sunflowers', 'sunny', 'friday', 'morning', ':)', 'sunflowers', 'favourites', 'happy', 'friday', '…']\n",
            "\u001b[94m\n",
            "stemmed words:\n",
            "['beauti', 'sunflow', 'sunni', 'friday', 'morn', ':)', 'sunflow', 'favourit', 'happi', 'friday', '…']\n"
          ]
        }
      ]
    },
    {
      "cell_type": "markdown",
      "source": [
        "***prepocessing consists of multiple steps before we get the final list of words. So we can make function for processing tweets. ***"
      ],
      "metadata": {
        "id": "ZmweomuxhtFp"
      }
    },
    {
      "cell_type": "markdown",
      "source": [
        "# Make Function for Pre-Processing "
      ],
      "metadata": {
        "id": "X6kaTOyliKBE"
      }
    },
    {
      "cell_type": "code",
      "source": [
        "# import re\n",
        "# import string\n",
        "# import numpy as np\n",
        "\n",
        "# from nltk.corpus import stopwords\n",
        "# from nltk.stem import PorterStemmer\n",
        "# from nltk.tokenize import TweetTokenizer\n",
        "\n",
        "# load this library before run function"
      ],
      "metadata": {
        "id": "yWMHsne_iJmI"
      },
      "execution_count": null,
      "outputs": []
    },
    {
      "cell_type": "code",
      "source": [
        "def process_tweet(tweet):\n",
        "  \"\"\" Process tweet function\n",
        "  input : \n",
        "    tweet : a string containing a tweet\n",
        "  output \n",
        "    tweet_clean : a list of words containing the processed tweet\n",
        "  \"\"\"\n",
        "\n",
        "  stemmer = PorterStemmer()\n",
        "  stopwords_english = stopwords.words('english')\n",
        "  # remove stock market tickers like $GE\n",
        "  tweet = re.sub(r'\\$\\w*', '', tweet)\n",
        "  # remove old style retweet text \"RT\"\n",
        "  tweet = re.sub(r'^RT[\\s]+', '', tweet)\n",
        "  # remove hyperlinks    \n",
        "  tweet = re.sub(r'https?://[^\\s\\n\\r]+', '', tweet)\n",
        "  # remove hashtags\n",
        "  # only removing the hash # sign from the word\n",
        "  tweet = re.sub(r'#', '', tweet)\n",
        "   # tokenize tweets\n",
        "  tokenizer = TweetTokenizer(preserve_case=False, strip_handles=True,\n",
        "                               reduce_len=True)\n",
        "  tweet_tokens = tokenizer.tokenize(tweet)\n",
        "\n",
        "  tweets_clean = []\n",
        "  for word in tweet_tokens:\n",
        "      if (word not in stopwords_english and  # remove stopwords\n",
        "              word not in string.punctuation):  # remove punctuation\n",
        "            # tweets_clean.append(word)\n",
        "            stem_word = stemmer.stem(word)  # stemming word\n",
        "            tweets_clean.append(stem_word)\n",
        "\n",
        "  return tweets_clean"
      ],
      "metadata": {
        "id": "I4PkEmvzh9nv"
      },
      "execution_count": 30,
      "outputs": []
    },
    {
      "cell_type": "markdown",
      "source": [
        "## how to use this function"
      ],
      "metadata": {
        "id": "Fg1fIVXCjEd8"
      }
    },
    {
      "cell_type": "code",
      "source": [
        "tweet = all_PositiveTweets[2277]\n",
        "\n",
        "print()\n",
        "print('\\033[92m')\n",
        "print(tweet)\n",
        "print('\\033[94m')\n",
        "\n",
        "# call the function\n",
        "tweet_processing = process_tweet(tweet);\n",
        "\n",
        "print('preprocessed tweet:')\n",
        "print(tweet_processing) # Print the result\n"
      ],
      "metadata": {
        "colab": {
          "base_uri": "https://localhost:8080/"
        },
        "id": "OaL16IIajHjj",
        "outputId": "d6a8a28a-4c49-465b-b01d-ad3c06c8da6d"
      },
      "execution_count": 32,
      "outputs": [
        {
          "output_type": "stream",
          "name": "stdout",
          "text": [
            "\n",
            "\u001b[92m\n",
            "My beautiful sunflowers on a sunny Friday morning off :) #sunflowers #favourites #happy #Friday off… https://t.co/3tfYom0N1i\n",
            "\u001b[94m\n",
            "preprocessed tweet:\n",
            "['beauti', 'sunflow', 'sunni', 'friday', 'morn', ':)', 'sunflow', 'favourit', 'happi', 'friday', '…']\n"
          ]
        }
      ]
    }
  ]
}